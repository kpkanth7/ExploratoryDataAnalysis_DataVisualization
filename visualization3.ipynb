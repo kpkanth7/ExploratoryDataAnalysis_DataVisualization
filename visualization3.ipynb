{
 "cells": [
  {
   "cell_type": "code",
   "execution_count": 1,
   "id": "a2907e2d",
   "metadata": {},
   "outputs": [
    {
     "data": {
      "text/html": [
       "<div>\n",
       "<style scoped>\n",
       "    .dataframe tbody tr th:only-of-type {\n",
       "        vertical-align: middle;\n",
       "    }\n",
       "\n",
       "    .dataframe tbody tr th {\n",
       "        vertical-align: top;\n",
       "    }\n",
       "\n",
       "    .dataframe thead th {\n",
       "        text-align: right;\n",
       "    }\n",
       "</style>\n",
       "<table border=\"1\" class=\"dataframe\">\n",
       "  <thead>\n",
       "    <tr style=\"text-align: right;\">\n",
       "      <th></th>\n",
       "      <th>c1</th>\n",
       "      <th>c2</th>\n",
       "    </tr>\n",
       "  </thead>\n",
       "  <tbody>\n",
       "    <tr>\n",
       "      <th>0</th>\n",
       "      <td>1</td>\n",
       "      <td>2</td>\n",
       "    </tr>\n",
       "    <tr>\n",
       "      <th>1</th>\n",
       "      <td>Ashish</td>\n",
       "      <td>Sid</td>\n",
       "    </tr>\n",
       "  </tbody>\n",
       "</table>\n",
       "</div>"
      ],
      "text/plain": [
       "       c1   c2\n",
       "0       1    2\n",
       "1  Ashish  Sid"
      ]
     },
     "execution_count": 1,
     "metadata": {},
     "output_type": "execute_result"
    }
   ],
   "source": [
    "import pandas as pd\n",
    "# assigning two series to s1 and s2\n",
    "s1 = pd.Series([1,2])\n",
    "s2 = pd.Series([\"Ashish\", \"Sid\"])\n",
    "# framing series objects into data\n",
    "df = pd.DataFrame([s1,s2])\n",
    "# show the data frame\n",
    "df\n",
    "\n",
    "# data framing in another way\n",
    "# taking index and column values\n",
    "dframe = pd.DataFrame([[1,2],[\"Ashish\", \"Sid\"]],\n",
    "\t\tindex=[\"r1\", \"r2\"],\n",
    "\t\tcolumns=[\"c1\", \"c2\"])\n",
    "dframe\n",
    "\n",
    "# framing in another way\n",
    "# dict-like container\n",
    "dframe = pd.DataFrame({\n",
    "\t\t\"c1\": [1, \"Ashish\"],\n",
    "\t\t\"c2\": [2, \"Sid\"]})\n",
    "dframe\n"
   ]
  },
  {
   "cell_type": "code",
   "execution_count": 2,
   "id": "0323ba7c",
   "metadata": {},
   "outputs": [
    {
     "data": {
      "text/html": [
       "<div>\n",
       "<style scoped>\n",
       "    .dataframe tbody tr th:only-of-type {\n",
       "        vertical-align: middle;\n",
       "    }\n",
       "\n",
       "    .dataframe tbody tr th {\n",
       "        vertical-align: top;\n",
       "    }\n",
       "\n",
       "    .dataframe thead th {\n",
       "        text-align: right;\n",
       "    }\n",
       "</style>\n",
       "<table border=\"1\" class=\"dataframe\">\n",
       "  <thead>\n",
       "    <tr style=\"text-align: right;\">\n",
       "      <th></th>\n",
       "      <th>c1</th>\n",
       "      <th>c2</th>\n",
       "    </tr>\n",
       "  </thead>\n",
       "  <tbody>\n",
       "    <tr>\n",
       "      <th>r1</th>\n",
       "      <td>1</td>\n",
       "      <td>2</td>\n",
       "    </tr>\n",
       "    <tr>\n",
       "      <th>r2</th>\n",
       "      <td>Ashish</td>\n",
       "      <td>Sid</td>\n",
       "    </tr>\n",
       "  </tbody>\n",
       "</table>\n",
       "</div>"
      ],
      "text/plain": [
       "        c1   c2\n",
       "r1       1    2\n",
       "r2  Ashish  Sid"
      ]
     },
     "execution_count": 2,
     "metadata": {},
     "output_type": "execute_result"
    }
   ],
   "source": [
    "# data framing in another way\n",
    "# taking index and column values\n",
    "dframe = pd.DataFrame([[1,2],[\"Ashish\", \"Sid\"]],\n",
    "\t\tindex=[\"r1\", \"r2\"],\n",
    "\t\tcolumns=[\"c1\", \"c2\"])\n",
    "dframe"
   ]
  },
  {
   "cell_type": "code",
   "execution_count": 3,
   "id": "68436432",
   "metadata": {},
   "outputs": [
    {
     "data": {
      "text/html": [
       "<div>\n",
       "<style scoped>\n",
       "    .dataframe tbody tr th:only-of-type {\n",
       "        vertical-align: middle;\n",
       "    }\n",
       "\n",
       "    .dataframe tbody tr th {\n",
       "        vertical-align: top;\n",
       "    }\n",
       "\n",
       "    .dataframe thead th {\n",
       "        text-align: right;\n",
       "    }\n",
       "</style>\n",
       "<table border=\"1\" class=\"dataframe\">\n",
       "  <thead>\n",
       "    <tr style=\"text-align: right;\">\n",
       "      <th></th>\n",
       "      <th>0</th>\n",
       "      <th>1</th>\n",
       "    </tr>\n",
       "  </thead>\n",
       "  <tbody>\n",
       "    <tr>\n",
       "      <th>0</th>\n",
       "      <td>1</td>\n",
       "      <td>2</td>\n",
       "    </tr>\n",
       "    <tr>\n",
       "      <th>1</th>\n",
       "      <td>Ashish</td>\n",
       "      <td>Sid</td>\n",
       "    </tr>\n",
       "  </tbody>\n",
       "</table>\n",
       "</div>"
      ],
      "text/plain": [
       "        0    1\n",
       "0       1    2\n",
       "1  Ashish  Sid"
      ]
     },
     "execution_count": 3,
     "metadata": {},
     "output_type": "execute_result"
    }
   ],
   "source": [
    "import pandas as pd\n",
    "# assigning two series to s1 and s2\n",
    "s1 = pd.Series([1,2])\n",
    "s2 = pd.Series([\"Ashish\", \"Sid\"])\n",
    "# framing series objects into data\n",
    "df = pd.DataFrame([s1,s2])\n",
    "# show the data frame\n",
    "df"
   ]
  },
  {
   "cell_type": "code",
   "execution_count": 4,
   "id": "a80006f2",
   "metadata": {},
   "outputs": [
    {
     "data": {
      "text/plain": [
       "(29, 16)"
      ]
     },
     "execution_count": 4,
     "metadata": {},
     "output_type": "execute_result"
    }
   ],
   "source": [
    "import pandas as pd\n",
    "  \n",
    "# Read IND_data.csv into a DataFrame, assigned to df\n",
    "df = pd.read_csv(\"CountryData.IND.csv\")\n",
    "  \n",
    "# Prints the first 5 rows of a DataFrame as default\n",
    "df.head()\n",
    "  \n",
    "df.shape"
   ]
  },
  {
   "cell_type": "code",
   "execution_count": 5,
   "id": "22d0ffc1",
   "metadata": {},
   "outputs": [
    {
     "data": {
      "text/html": [
       "<div>\n",
       "<style scoped>\n",
       "    .dataframe tbody tr th:only-of-type {\n",
       "        vertical-align: middle;\n",
       "    }\n",
       "\n",
       "    .dataframe tbody tr th {\n",
       "        vertical-align: top;\n",
       "    }\n",
       "\n",
       "    .dataframe thead th {\n",
       "        text-align: right;\n",
       "    }\n",
       "</style>\n",
       "<table border=\"1\" class=\"dataframe\">\n",
       "  <thead>\n",
       "    <tr style=\"text-align: right;\">\n",
       "      <th></th>\n",
       "      <th>Series Code</th>\n",
       "      <th>Frequency</th>\n",
       "      <th>Series</th>\n",
       "      <th>Units of measurement</th>\n",
       "      <th>Location</th>\n",
       "      <th>Age group</th>\n",
       "      <th>Sex</th>\n",
       "      <th>Reference Area</th>\n",
       "      <th>Source type</th>\n",
       "      <th>Time period</th>\n",
       "      <th>Observation Value</th>\n",
       "      <th>Unit multiplier</th>\n",
       "      <th>Nature of data points</th>\n",
       "      <th>Time period details</th>\n",
       "      <th>Source details</th>\n",
       "      <th>Footnotes</th>\n",
       "    </tr>\n",
       "  </thead>\n",
       "  <tbody>\n",
       "    <tr>\n",
       "      <th>0</th>\n",
       "      <td>IT_USE_ii99</td>\n",
       "      <td>Annual</td>\n",
       "      <td>Internet users</td>\n",
       "      <td>Per 100 population</td>\n",
       "      <td>Total (national level)</td>\n",
       "      <td>All age ranges</td>\n",
       "      <td>Both sexes</td>\n",
       "      <td>India</td>\n",
       "      <td>Not available</td>\n",
       "      <td>1999</td>\n",
       "      <td>0.2</td>\n",
       "      <td>Units</td>\n",
       "      <td>Country Data</td>\n",
       "      <td>1999</td>\n",
       "      <td>Ministry of Information Technology</td>\n",
       "      <td>NaN</td>\n",
       "    </tr>\n",
       "    <tr>\n",
       "      <th>1</th>\n",
       "      <td>IT_USE_ii99</td>\n",
       "      <td>Annual</td>\n",
       "      <td>Internet users</td>\n",
       "      <td>Per 100 population</td>\n",
       "      <td>Total (national level)</td>\n",
       "      <td>All age ranges</td>\n",
       "      <td>Both sexes</td>\n",
       "      <td>India</td>\n",
       "      <td>Not available</td>\n",
       "      <td>2002</td>\n",
       "      <td>3.2</td>\n",
       "      <td>Units</td>\n",
       "      <td>Country Data</td>\n",
       "      <td>2002</td>\n",
       "      <td>Ministry of Information Technology</td>\n",
       "      <td>NaN</td>\n",
       "    </tr>\n",
       "    <tr>\n",
       "      <th>2</th>\n",
       "      <td>IT_USE_ii99</td>\n",
       "      <td>Annual</td>\n",
       "      <td>Internet users</td>\n",
       "      <td>Per 100 population</td>\n",
       "      <td>Total (national level)</td>\n",
       "      <td>All age ranges</td>\n",
       "      <td>Both sexes</td>\n",
       "      <td>India</td>\n",
       "      <td>Not available</td>\n",
       "      <td>2006</td>\n",
       "      <td>7.0</td>\n",
       "      <td>Units</td>\n",
       "      <td>Country Data</td>\n",
       "      <td>2006</td>\n",
       "      <td>Ministry of Information Technology</td>\n",
       "      <td>NaN</td>\n",
       "    </tr>\n",
       "    <tr>\n",
       "      <th>3</th>\n",
       "      <td>SE_ADT_1524</td>\n",
       "      <td>Annual</td>\n",
       "      <td>Literacy rate</td>\n",
       "      <td>Percent</td>\n",
       "      <td>Total (national level)</td>\n",
       "      <td>15-24 year olds</td>\n",
       "      <td>Both sexes</td>\n",
       "      <td>India</td>\n",
       "      <td>Not available</td>\n",
       "      <td>1991</td>\n",
       "      <td>48.5</td>\n",
       "      <td>Units</td>\n",
       "      <td>Country Data</td>\n",
       "      <td>1991</td>\n",
       "      <td>Planning Commission</td>\n",
       "      <td>NaN</td>\n",
       "    </tr>\n",
       "    <tr>\n",
       "      <th>4</th>\n",
       "      <td>SE_ADT_1524</td>\n",
       "      <td>Annual</td>\n",
       "      <td>Literacy rate</td>\n",
       "      <td>Percent</td>\n",
       "      <td>Total (national level)</td>\n",
       "      <td>15-24 year olds</td>\n",
       "      <td>Both sexes</td>\n",
       "      <td>India</td>\n",
       "      <td>Not available</td>\n",
       "      <td>2001</td>\n",
       "      <td>76.4</td>\n",
       "      <td>Units</td>\n",
       "      <td>Country Data</td>\n",
       "      <td>2001</td>\n",
       "      <td>Planning Commission</td>\n",
       "      <td>NaN</td>\n",
       "    </tr>\n",
       "  </tbody>\n",
       "</table>\n",
       "</div>"
      ],
      "text/plain": [
       "   Series Code Frequency          Series Units of measurement  \\\n",
       "0  IT_USE_ii99    Annual  Internet users   Per 100 population   \n",
       "1  IT_USE_ii99    Annual  Internet users   Per 100 population   \n",
       "2  IT_USE_ii99    Annual  Internet users   Per 100 population   \n",
       "3  SE_ADT_1524    Annual   Literacy rate              Percent   \n",
       "4  SE_ADT_1524    Annual   Literacy rate              Percent   \n",
       "\n",
       "                 Location        Age group         Sex Reference Area  \\\n",
       "0  Total (national level)   All age ranges  Both sexes          India   \n",
       "1  Total (national level)   All age ranges  Both sexes          India   \n",
       "2  Total (national level)   All age ranges  Both sexes          India   \n",
       "3  Total (national level)  15-24 year olds  Both sexes          India   \n",
       "4  Total (national level)  15-24 year olds  Both sexes          India   \n",
       "\n",
       "     Source type  Time period  Observation Value Unit multiplier  \\\n",
       "0  Not available         1999                0.2           Units   \n",
       "1  Not available         2002                3.2           Units   \n",
       "2  Not available         2006                7.0           Units   \n",
       "3  Not available         1991               48.5           Units   \n",
       "4  Not available         2001               76.4           Units   \n",
       "\n",
       "  Nature of data points  Time period details  \\\n",
       "0          Country Data                 1999   \n",
       "1          Country Data                 2002   \n",
       "2          Country Data                 2006   \n",
       "3          Country Data                 1991   \n",
       "4          Country Data                 2001   \n",
       "\n",
       "                       Source details  Footnotes  \n",
       "0  Ministry of Information Technology        NaN  \n",
       "1  Ministry of Information Technology        NaN  \n",
       "2  Ministry of Information Technology        NaN  \n",
       "3                 Planning Commission        NaN  \n",
       "4                 Planning Commission        NaN  "
      ]
     },
     "execution_count": 5,
     "metadata": {},
     "output_type": "execute_result"
    }
   ],
   "source": [
    "import pandas as pd\n",
    "  \n",
    "# Read IND_data.csv into a DataFrame, assigned to df\n",
    "df = pd.read_csv(\"CountryData.IND.csv\")\n",
    "  \n",
    "# Prints the first 5 rows of a DataFrame as default\n",
    "df.head()\n",
    "  "
   ]
  },
  {
   "cell_type": "code",
   "execution_count": 7,
   "id": "4b0c6dcc",
   "metadata": {},
   "outputs": [
    {
     "data": {
      "text/html": [
       "<div>\n",
       "<style scoped>\n",
       "    .dataframe tbody tr th:only-of-type {\n",
       "        vertical-align: middle;\n",
       "    }\n",
       "\n",
       "    .dataframe tbody tr th {\n",
       "        vertical-align: top;\n",
       "    }\n",
       "\n",
       "    .dataframe thead th {\n",
       "        text-align: right;\n",
       "    }\n",
       "</style>\n",
       "<table border=\"1\" class=\"dataframe\">\n",
       "  <thead>\n",
       "    <tr style=\"text-align: right;\">\n",
       "      <th></th>\n",
       "      <th>Series Code</th>\n",
       "      <th>Frequency</th>\n",
       "      <th>Series</th>\n",
       "      <th>Units of measurement</th>\n",
       "      <th>Location</th>\n",
       "    </tr>\n",
       "  </thead>\n",
       "  <tbody>\n",
       "    <tr>\n",
       "      <th>0</th>\n",
       "      <td>IT_USE_ii99</td>\n",
       "      <td>Annual</td>\n",
       "      <td>Internet users</td>\n",
       "      <td>Per 100 population</td>\n",
       "      <td>Total (national level)</td>\n",
       "    </tr>\n",
       "    <tr>\n",
       "      <th>1</th>\n",
       "      <td>IT_USE_ii99</td>\n",
       "      <td>Annual</td>\n",
       "      <td>Internet users</td>\n",
       "      <td>Per 100 population</td>\n",
       "      <td>Total (national level)</td>\n",
       "    </tr>\n",
       "    <tr>\n",
       "      <th>2</th>\n",
       "      <td>IT_USE_ii99</td>\n",
       "      <td>Annual</td>\n",
       "      <td>Internet users</td>\n",
       "      <td>Per 100 population</td>\n",
       "      <td>Total (national level)</td>\n",
       "    </tr>\n",
       "    <tr>\n",
       "      <th>3</th>\n",
       "      <td>SE_ADT_1524</td>\n",
       "      <td>Annual</td>\n",
       "      <td>Literacy rate</td>\n",
       "      <td>Percent</td>\n",
       "      <td>Total (national level)</td>\n",
       "    </tr>\n",
       "    <tr>\n",
       "      <th>4</th>\n",
       "      <td>SE_ADT_1524</td>\n",
       "      <td>Annual</td>\n",
       "      <td>Literacy rate</td>\n",
       "      <td>Percent</td>\n",
       "      <td>Total (national level)</td>\n",
       "    </tr>\n",
       "  </tbody>\n",
       "</table>\n",
       "</div>"
      ],
      "text/plain": [
       "   Series Code Frequency          Series Units of measurement  \\\n",
       "0  IT_USE_ii99    Annual  Internet users   Per 100 population   \n",
       "1  IT_USE_ii99    Annual  Internet users   Per 100 population   \n",
       "2  IT_USE_ii99    Annual  Internet users   Per 100 population   \n",
       "3  SE_ADT_1524    Annual   Literacy rate              Percent   \n",
       "4  SE_ADT_1524    Annual   Literacy rate              Percent   \n",
       "\n",
       "                 Location  \n",
       "0  Total (national level)  \n",
       "1  Total (national level)  \n",
       "2  Total (national level)  \n",
       "3  Total (national level)  \n",
       "4  Total (national level)  "
      ]
     },
     "execution_count": 7,
     "metadata": {},
     "output_type": "execute_result"
    }
   ],
   "source": [
    "#Indexing can be possible using the pandas.DataFrame.iloc method.\n",
    "#The iloc method allows to retrieve as  many as rows and columns by position.\n",
    "# prints first 5 rows and every column which replicates df.head()\n",
    "df.iloc[0:5,:]\n",
    "# prints entire rows and columns\n",
    "df.iloc[:,:]\n",
    "# prints from 5th rows and first 5 columns\n",
    "df.iloc[:5,:5]"
   ]
  },
  {
   "cell_type": "code",
   "execution_count": 10,
   "id": "dc9da10a",
   "metadata": {},
   "outputs": [
    {
     "data": {
      "text/plain": [
       "5    1992\n",
       "Name: Time period, dtype: int64"
      ]
     },
     "execution_count": 10,
     "metadata": {},
     "output_type": "execute_result"
    }
   ],
   "source": [
    "#Indexing can be worked with labels using the pandas.DataFrame.loc method, \n",
    "#which allows to index using labels instead of positions.\n",
    "# prints first five rows including 5th index and every columns of df\n",
    "df.loc[0:5,:]\n",
    "# prints from 5th rows onwards and entire columns\n",
    "df = df.loc[5:,:]\n",
    "# Prints the first 5 rows of Time period\n",
    "# value \n",
    "df.loc[:5,\"Time period\"]"
   ]
  },
  {
   "cell_type": "code",
   "execution_count": 14,
   "id": "426df7bc",
   "metadata": {},
   "outputs": [
    {
     "data": {
      "text/plain": [
       "Series([], Name: Time period, dtype: int64)"
      ]
     },
     "execution_count": 14,
     "metadata": {},
     "output_type": "execute_result"
    }
   ],
   "source": [
    "df.loc[0:3,\"Time period\"]"
   ]
  },
  {
   "cell_type": "code",
   "execution_count": 15,
   "id": "d111aab1",
   "metadata": {},
   "outputs": [
    {
     "data": {
      "image/png": "[encoded data removed]",
      "text/plain": [
       "<Figure size 432x288 with 1 Axes>"
      ]
     },
     "metadata": {
      "needs_background": "light"
     },
     "output_type": "display_data"
    },
    {
     "data": {
      "image/png": "[encoded data removed]",
      "text/plain": [
       "<Figure size 432x288 with 1 Axes>"
      ]
     },
     "metadata": {
      "needs_background": "light"
     },
     "output_type": "display_data"
    }
   ],
   "source": [
    "# import the required module \n",
    "import matplotlib.pyplot as plt\n",
    "# plot a histogram \n",
    "df['Observation Value'].hist(bins=10)\n",
    "  \n",
    "# shows presence of a lot of outliers/extreme values\n",
    "df.boxplot(column='Observation Value', by = 'Time period')\n",
    "  \n",
    "# plotting points as a scatter plot\n",
    "x = df[\"Observation Value\"]\n",
    "y = df[\"Time period\"]\n",
    "plt.scatter(x, y, label= \"stars\", color= \"m\", \n",
    "            marker= \"*\", s=30)\n",
    "# x-axis label\n",
    "plt.xlabel('Observation Value')\n",
    "# frequency label\n",
    "plt.ylabel('Time period')\n",
    "# function to show the plot\n",
    "plt.show()"
   ]
  },
  {
   "cell_type": "code",
   "execution_count": 16,
   "id": "b73af65f",
   "metadata": {},
   "outputs": [
    {
     "data": {
      "text/plain": [
       "<AxesSubplot:title={'center':'Observation Value'}, xlabel='Time period'>"
      ]
     },
     "execution_count": 16,
     "metadata": {},
     "output_type": "execute_result"
    },
    {
     "data": {
      "image/png": "[encoded data removed]",
      "text/plain": [
       "<Figure size 432x288 with 1 Axes>"
      ]
     },
     "metadata": {
      "needs_background": "light"
     },
     "output_type": "display_data"
    }
   ],
   "source": [
    "df.boxplot(column='Observation Value', by = 'Time period')"
   ]
  },
  {
   "cell_type": "code",
   "execution_count": 17,
   "id": "dada376d",
   "metadata": {},
   "outputs": [
    {
     "data": {
      "text/plain": [
       "<AxesSubplot:>"
      ]
     },
     "execution_count": 17,
     "metadata": {},
     "output_type": "execute_result"
    },
    {
     "data": {
      "image/png": "[encoded data removed]",
      "text/plain": [
       "<Figure size 432x288 with 1 Axes>"
      ]
     },
     "metadata": {
      "needs_background": "light"
     },
     "output_type": "display_data"
    }
   ],
   "source": [
    "df['Observation Value'].hist(bins=10)"
   ]
  },
  {
   "cell_type": "code",
   "execution_count": 18,
   "id": "28e3b2ab",
   "metadata": {},
   "outputs": [
    {
     "data": {
      "image/png": "[encoded data removed]",
      "text/plain": [
       "<Figure size 432x288 with 1 Axes>"
      ]
     },
     "metadata": {
      "needs_background": "light"
     },
     "output_type": "display_data"
    }
   ],
   "source": [
    "# plotting points as a scatter plot\n",
    "x = df[\"Observation Value\"]\n",
    "y = df[\"Time period\"]\n",
    "plt.scatter(x, y, label= \"stars\", color= \"m\", \n",
    "            marker= \"*\", s=30)\n",
    "# x-axis label\n",
    "plt.xlabel('Observation Value')\n",
    "# frequency label\n",
    "plt.ylabel('Time period')\n",
    "# function to show the plot\n",
    "plt.show()"
   ]
  },
  {
   "cell_type": "code",
   "execution_count": null,
   "id": "c9df7aa5",
   "metadata": {},
   "outputs": [],
   "source": []
  }
 ],
 "metadata": {
  "kernelspec": {
   "display_name": "Python 3",
   "language": "python",
   "name": "python3"
  },
  "language_info": {
   "codemirror_mode": {
    "name": "ipython",
    "version": 3
   },
   "file_extension": ".py",
   "mimetype": "text/x-python",
   "name": "python",
   "nbconvert_exporter": "python",
   "pygments_lexer": "ipython3",
   "version": "3.8.8"
  }
 },
 "nbformat": 4,
 "nbformat_minor": 5
}
